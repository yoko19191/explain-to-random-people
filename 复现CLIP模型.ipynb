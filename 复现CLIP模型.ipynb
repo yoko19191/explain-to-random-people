{
 "cells": [
  {
   "cell_type": "markdown",
   "metadata": {},
   "source": [
    "cite: https://www.bilibili.com/video/BV13K421v7Ar/?spm_id_from=333.1007.top_right_bar_window_custom_collection.content.click&vd_source=427a8f6991c46f06262700ed0e9203dc"
   ]
  },
  {
   "cell_type": "markdown",
   "metadata": {},
   "source": []
  }
 ],
 "metadata": {
  "language_info": {
   "name": "python"
  }
 },
 "nbformat": 4,
 "nbformat_minor": 2
}
